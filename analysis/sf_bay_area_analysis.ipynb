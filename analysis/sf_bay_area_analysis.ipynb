{
 "cells": [
  {
   "cell_type": "markdown",
   "metadata": {},
   "source": [
    "# End-to-end machine learning project\n",
    "This notebook is to do anlysis on SF Bay Area housing data. Borrowed from the following github - https://github.com/mboles01/Realestate"
   ]
  },
  {
   "cell_type": "markdown",
   "metadata": {},
   "source": [
    "#### start with importing our Python libraries"
   ]
  },
  {
   "cell_type": "code",
   "execution_count": 1,
   "metadata": {},
   "outputs": [],
   "source": [
    "# common imports\n",
    "from pathlib import Path\n",
    "import numpy as np\n",
    "import pandas as pd\n",
    "\n",
    "# sci-kit learn is our one-stop shop for machine learning!\n",
    "import sklearn\n",
    "from sklearn.model_selection import train_test_split\n",
    "from sklearn.preprocessing import StandardScaler\n",
    "from sklearn.metrics import mean_squared_error,  mean_absolute_error\n",
    "from sklearn.linear_model import LinearRegression\n",
    "from sklearn import metrics\n",
    "\n",
    "# to make this notebook's output stable across runs\n",
    "np.random.seed(42)\n",
    "\n",
    "# To plot pretty figures\n",
    "import matplotlib as mpl\n",
    "import matplotlib.pyplot as plt\n",
    "mpl.rc('axes', labelsize=14)\n",
    "mpl.rc('xtick', labelsize=12)\n",
    "mpl.rc('ytick', labelsize=12)"
   ]
  },
  {
   "cell_type": "markdown",
   "metadata": {},
   "source": [
    "## Exploratory Data Analysis"
   ]
  },
  {
   "cell_type": "code",
   "execution_count": 2,
   "metadata": {},
   "outputs": [
    {
     "data": {
      "text/html": [
       "<div>\n",
       "<style scoped>\n",
       "    .dataframe tbody tr th:only-of-type {\n",
       "        vertical-align: middle;\n",
       "    }\n",
       "\n",
       "    .dataframe tbody tr th {\n",
       "        vertical-align: top;\n",
       "    }\n",
       "\n",
       "    .dataframe thead th {\n",
       "        text-align: right;\n",
       "    }\n",
       "</style>\n",
       "<table border=\"1\" class=\"dataframe\">\n",
       "  <thead>\n",
       "    <tr style=\"text-align: right;\">\n",
       "      <th></th>\n",
       "      <th>Address</th>\n",
       "      <th>City</th>\n",
       "      <th>State</th>\n",
       "      <th>Zip</th>\n",
       "      <th>Price</th>\n",
       "      <th>Beds</th>\n",
       "      <th>Baths</th>\n",
       "      <th>Home_size</th>\n",
       "      <th>Lot_size</th>\n",
       "      <th>Latitude</th>\n",
       "      <th>Longitude</th>\n",
       "      <th>SF_time</th>\n",
       "      <th>PA_time</th>\n",
       "      <th>School_score</th>\n",
       "      <th>Commute_time</th>\n",
       "      <th>Price difference</th>\n",
       "    </tr>\n",
       "  </thead>\n",
       "  <tbody>\n",
       "    <tr>\n",
       "      <th>3162</th>\n",
       "      <td>518 Mark Ave</td>\n",
       "      <td>Vallejo</td>\n",
       "      <td>CA</td>\n",
       "      <td>94589</td>\n",
       "      <td>398000</td>\n",
       "      <td>4</td>\n",
       "      <td>2.0</td>\n",
       "      <td>1862</td>\n",
       "      <td>5663.0</td>\n",
       "      <td>38.146033</td>\n",
       "      <td>-122.230051</td>\n",
       "      <td>98</td>\n",
       "      <td>130</td>\n",
       "      <td>28.5</td>\n",
       "      <td>98</td>\n",
       "      <td>-130432.17440</td>\n",
       "    </tr>\n",
       "    <tr>\n",
       "      <th>4628</th>\n",
       "      <td>2307 Lemoyne Way</td>\n",
       "      <td>Campbell</td>\n",
       "      <td>CA</td>\n",
       "      <td>95008</td>\n",
       "      <td>1649877</td>\n",
       "      <td>5</td>\n",
       "      <td>2.5</td>\n",
       "      <td>2077</td>\n",
       "      <td>5998.0</td>\n",
       "      <td>37.280635</td>\n",
       "      <td>-121.971390</td>\n",
       "      <td>100</td>\n",
       "      <td>55</td>\n",
       "      <td>52.2</td>\n",
       "      <td>55</td>\n",
       "      <td>190001.25770</td>\n",
       "    </tr>\n",
       "    <tr>\n",
       "      <th>3590</th>\n",
       "      <td>2732 61st Ave</td>\n",
       "      <td>Oakland</td>\n",
       "      <td>CA</td>\n",
       "      <td>94605</td>\n",
       "      <td>499000</td>\n",
       "      <td>3</td>\n",
       "      <td>1.5</td>\n",
       "      <td>1166</td>\n",
       "      <td>4275.0</td>\n",
       "      <td>37.771552</td>\n",
       "      <td>-122.187103</td>\n",
       "      <td>75</td>\n",
       "      <td>78</td>\n",
       "      <td>26.0</td>\n",
       "      <td>75</td>\n",
       "      <td>29265.79349</td>\n",
       "    </tr>\n",
       "    <tr>\n",
       "      <th>4217</th>\n",
       "      <td>1716 Post Ave</td>\n",
       "      <td>San Pablo</td>\n",
       "      <td>CA</td>\n",
       "      <td>94806</td>\n",
       "      <td>579000</td>\n",
       "      <td>3</td>\n",
       "      <td>2.0</td>\n",
       "      <td>1644</td>\n",
       "      <td>4680.0</td>\n",
       "      <td>37.957119</td>\n",
       "      <td>-122.352431</td>\n",
       "      <td>90</td>\n",
       "      <td>120</td>\n",
       "      <td>30.0</td>\n",
       "      <td>90</td>\n",
       "      <td>53459.91972</td>\n",
       "    </tr>\n",
       "    <tr>\n",
       "      <th>3128</th>\n",
       "      <td>1324 Sereno Dr</td>\n",
       "      <td>Vallejo</td>\n",
       "      <td>CA</td>\n",
       "      <td>94589</td>\n",
       "      <td>450000</td>\n",
       "      <td>3</td>\n",
       "      <td>2.0</td>\n",
       "      <td>1252</td>\n",
       "      <td>7405.0</td>\n",
       "      <td>38.129528</td>\n",
       "      <td>-122.238371</td>\n",
       "      <td>98</td>\n",
       "      <td>130</td>\n",
       "      <td>28.5</td>\n",
       "      <td>98</td>\n",
       "      <td>150686.53300</td>\n",
       "    </tr>\n",
       "  </tbody>\n",
       "</table>\n",
       "</div>"
      ],
      "text/plain": [
       "               Address       City State    Zip    Price  Beds  Baths  \\\n",
       "3162      518 Mark Ave    Vallejo    CA  94589   398000     4    2.0   \n",
       "4628  2307 Lemoyne Way   Campbell    CA  95008  1649877     5    2.5   \n",
       "3590     2732 61st Ave    Oakland    CA  94605   499000     3    1.5   \n",
       "4217     1716 Post Ave  San Pablo    CA  94806   579000     3    2.0   \n",
       "3128    1324 Sereno Dr    Vallejo    CA  94589   450000     3    2.0   \n",
       "\n",
       "      Home_size  Lot_size   Latitude   Longitude  SF_time  PA_time  \\\n",
       "3162       1862    5663.0  38.146033 -122.230051       98      130   \n",
       "4628       2077    5998.0  37.280635 -121.971390      100       55   \n",
       "3590       1166    4275.0  37.771552 -122.187103       75       78   \n",
       "4217       1644    4680.0  37.957119 -122.352431       90      120   \n",
       "3128       1252    7405.0  38.129528 -122.238371       98      130   \n",
       "\n",
       "      School_score  Commute_time  Price difference  \n",
       "3162          28.5            98     -130432.17440  \n",
       "4628          52.2            55      190001.25770  \n",
       "3590          26.0            75       29265.79349  \n",
       "4217          30.0            90       53459.91972  \n",
       "3128          28.5            98      150686.53300  "
      ]
     },
     "execution_count": 2,
     "metadata": {},
     "output_type": "execute_result"
    }
   ],
   "source": [
    "# read in the dataset\n",
    "filepath = Path.joinpath(Path.cwd().parent, 'data', 'sf_bay_area_real_estate.csv')\n",
    "housing = pd.read_csv(filepath)\n",
    "housing.sample(5)"
   ]
  },
  {
   "cell_type": "markdown",
   "metadata": {},
   "source": [
    "Decide what is our variable of interest (this is the item we want to predict, aka the Dependent Variable, labels, or target)"
   ]
  },
  {
   "cell_type": "code",
   "execution_count": 3,
   "metadata": {},
   "outputs": [
    {
     "data": {
      "text/plain": [
       "count    5.758000e+03\n",
       "mean     1.194509e+06\n",
       "std      7.394026e+05\n",
       "min      1.290000e+05\n",
       "25%      6.790000e+05\n",
       "50%      9.959750e+05\n",
       "75%      1.469722e+06\n",
       "max      4.999888e+06\n",
       "Name: Price, dtype: float64"
      ]
     },
     "execution_count": 3,
     "metadata": {},
     "output_type": "execute_result"
    }
   ],
   "source": [
    "housing['Price'].describe()"
   ]
  },
  {
   "cell_type": "markdown",
   "metadata": {},
   "source": [
    "## Feature Engineering"
   ]
  },
  {
   "cell_type": "code",
   "execution_count": 4,
   "metadata": {},
   "outputs": [
    {
     "data": {
      "text/plain": [
       "Index(['Address', 'City', 'State', 'Zip', 'Price', 'Beds', 'Baths',\n",
       "       'Home_size', 'Lot_size', 'Latitude', 'Longitude', 'SF_time', 'PA_time',\n",
       "       'School_score', 'Commute_time', 'Price difference'],\n",
       "      dtype='object')"
      ]
     },
     "execution_count": 4,
     "metadata": {},
     "output_type": "execute_result"
    }
   ],
   "source": [
    "# what are the variables?\n",
    "housing.columns"
   ]
  },
  {
   "cell_type": "markdown",
   "metadata": {},
   "source": [
    "## Prepare the data for Machine Learning algorithms"
   ]
  },
  {
   "cell_type": "markdown",
   "metadata": {},
   "source": [
    "#### Get rid of missing data\n",
    "Geron actually shows multiple options here (such as imputing the median) but we're just going to drop all rows with missing data."
   ]
  },
  {
   "cell_type": "code",
   "execution_count": 5,
   "metadata": {},
   "outputs": [
    {
     "name": "stdout",
     "output_type": "stream",
     "text": [
      "Address             0\n",
      "City                0\n",
      "State               0\n",
      "Zip                 0\n",
      "Price               0\n",
      "Beds                0\n",
      "Baths               0\n",
      "Home_size           0\n",
      "Lot_size            0\n",
      "Latitude            0\n",
      "Longitude           0\n",
      "SF_time             0\n",
      "PA_time             0\n",
      "School_score        0\n",
      "Commute_time        0\n",
      "Price difference    0\n",
      "dtype: int64\n"
     ]
    }
   ],
   "source": [
    "# sklearn cannot handle missing data.\n",
    "print(housing.isnull().sum())\n",
    "# - Looks like there is no missing data\n",
    "#housing.dropna(axis=1, inplace=True)"
   ]
  },
  {
   "cell_type": "markdown",
   "metadata": {},
   "source": [
    "#### Feature scaling\n",
    "\"One of the most important transformations you need to apply to your data is feature scaling. With few exceptions, Machine Learning algorithms don’t perform well when the input numerical attributes have very different scales. This is the case for the hous‐ ing data: the total number of rooms ranges from about 6 to 39,320, while the median incomes only range from 0 to 15. Note that scaling the target values is generally not required.\n",
    "There are two common ways to get all attributes to have the same scale: min-max scaling (i.e., normalization) and standardization.\"  -- Geron, pg. 72\n",
    "\n",
    "\"Standardization is quite different: first it subtracts the mean value (so standardized values always have a zero mean), and then it divides by the standard deviation so that the resulting distribution has unit variance. Unlike min-max scaling, standardization does not bound values to a specific range, which may be a problem for some algo‐ rithms (e.g., neural networks often expect an input value ranging from 0 to 1). However, standardization is much less affected by outliers. For example, suppose a district had a median income equal to 100 (by mistake). Min-max scaling would then crush all the other values from 0–15 down to 0–0.15, whereas standardization would not be much affected. Scikit-Learn provides a transformer called StandardScaler for standardization.\"  -- Geron, pg. 73"
   ]
  },
  {
   "cell_type": "code",
   "execution_count": 7,
   "metadata": {},
   "outputs": [
    {
     "data": {
      "text/plain": [
       "Index(['Zip', 'Price', 'Beds', 'Baths', 'Home_size', 'Lot_size', 'Latitude',\n",
       "       'Longitude', 'SF_time', 'PA_time', 'School_score', 'Commute_time',\n",
       "       'Price difference'],\n",
       "      dtype='object')"
      ]
     },
     "execution_count": 7,
     "metadata": {},
     "output_type": "execute_result"
    }
   ],
   "source": [
    "# What are the numeric variables in my dataset?\n",
    "housing.describe().columns"
   ]
  },
  {
   "cell_type": "markdown",
   "metadata": {},
   "source": [
    "Note: Geron includes `median_house_value`(Price for us) in his scaling, but I do not. It's not actually necessary to scale your dependent variable (i.e., your target) and leaving it in the original metric makes the results a lot easier to interpret."
   ]
  },
  {
   "cell_type": "code",
   "execution_count": 8,
   "metadata": {},
   "outputs": [
    {
     "name": "stdout",
     "output_type": "stream",
     "text": [
      "Index(['Beds', 'Baths', 'Home_size', 'Lot_size', 'Latitude', 'Longitude',\n",
      "       'SF_time', 'PA_time', 'School_score', 'Commute_time'],\n",
      "      dtype='object')\n"
     ]
    }
   ],
   "source": [
    "# For the purpose of scaling, make a list of only the numeric columns\n",
    "numeric_cols=housing.columns.drop(['Price difference', 'Address', 'City', 'State', 'Zip', 'Price'])\n",
    "print(numeric_cols)"
   ]
  },
  {
   "cell_type": "markdown",
   "metadata": {},
   "source": [
    "Note: The following code only works because we dropped missing data earlier. This is pretty common in `sklearn` -- either drop or impute missing values at the start of your analysis!"
   ]
  },
  {
   "cell_type": "code",
   "execution_count": 9,
   "metadata": {},
   "outputs": [
    {
     "data": {
      "text/html": [
       "<style>#sk-container-id-1 {color: black;background-color: white;}#sk-container-id-1 pre{padding: 0;}#sk-container-id-1 div.sk-toggleable {background-color: white;}#sk-container-id-1 label.sk-toggleable__label {cursor: pointer;display: block;width: 100%;margin-bottom: 0;padding: 0.3em;box-sizing: border-box;text-align: center;}#sk-container-id-1 label.sk-toggleable__label-arrow:before {content: \"▸\";float: left;margin-right: 0.25em;color: #696969;}#sk-container-id-1 label.sk-toggleable__label-arrow:hover:before {color: black;}#sk-container-id-1 div.sk-estimator:hover label.sk-toggleable__label-arrow:before {color: black;}#sk-container-id-1 div.sk-toggleable__content {max-height: 0;max-width: 0;overflow: hidden;text-align: left;background-color: #f0f8ff;}#sk-container-id-1 div.sk-toggleable__content pre {margin: 0.2em;color: black;border-radius: 0.25em;background-color: #f0f8ff;}#sk-container-id-1 input.sk-toggleable__control:checked~div.sk-toggleable__content {max-height: 200px;max-width: 100%;overflow: auto;}#sk-container-id-1 input.sk-toggleable__control:checked~label.sk-toggleable__label-arrow:before {content: \"▾\";}#sk-container-id-1 div.sk-estimator input.sk-toggleable__control:checked~label.sk-toggleable__label {background-color: #d4ebff;}#sk-container-id-1 div.sk-label input.sk-toggleable__control:checked~label.sk-toggleable__label {background-color: #d4ebff;}#sk-container-id-1 input.sk-hidden--visually {border: 0;clip: rect(1px 1px 1px 1px);clip: rect(1px, 1px, 1px, 1px);height: 1px;margin: -1px;overflow: hidden;padding: 0;position: absolute;width: 1px;}#sk-container-id-1 div.sk-estimator {font-family: monospace;background-color: #f0f8ff;border: 1px dotted black;border-radius: 0.25em;box-sizing: border-box;margin-bottom: 0.5em;}#sk-container-id-1 div.sk-estimator:hover {background-color: #d4ebff;}#sk-container-id-1 div.sk-parallel-item::after {content: \"\";width: 100%;border-bottom: 1px solid gray;flex-grow: 1;}#sk-container-id-1 div.sk-label:hover label.sk-toggleable__label {background-color: #d4ebff;}#sk-container-id-1 div.sk-serial::before {content: \"\";position: absolute;border-left: 1px solid gray;box-sizing: border-box;top: 0;bottom: 0;left: 50%;z-index: 0;}#sk-container-id-1 div.sk-serial {display: flex;flex-direction: column;align-items: center;background-color: white;padding-right: 0.2em;padding-left: 0.2em;position: relative;}#sk-container-id-1 div.sk-item {position: relative;z-index: 1;}#sk-container-id-1 div.sk-parallel {display: flex;align-items: stretch;justify-content: center;background-color: white;position: relative;}#sk-container-id-1 div.sk-item::before, #sk-container-id-1 div.sk-parallel-item::before {content: \"\";position: absolute;border-left: 1px solid gray;box-sizing: border-box;top: 0;bottom: 0;left: 50%;z-index: -1;}#sk-container-id-1 div.sk-parallel-item {display: flex;flex-direction: column;z-index: 1;position: relative;background-color: white;}#sk-container-id-1 div.sk-parallel-item:first-child::after {align-self: flex-end;width: 50%;}#sk-container-id-1 div.sk-parallel-item:last-child::after {align-self: flex-start;width: 50%;}#sk-container-id-1 div.sk-parallel-item:only-child::after {width: 0;}#sk-container-id-1 div.sk-dashed-wrapped {border: 1px dashed gray;margin: 0 0.4em 0.5em 0.4em;box-sizing: border-box;padding-bottom: 0.4em;background-color: white;}#sk-container-id-1 div.sk-label label {font-family: monospace;font-weight: bold;display: inline-block;line-height: 1.2em;}#sk-container-id-1 div.sk-label-container {text-align: center;}#sk-container-id-1 div.sk-container {/* jupyter's `normalize.less` sets `[hidden] { display: none; }` but bootstrap.min.css set `[hidden] { display: none !important; }` so we also need the `!important` here to be able to override the default hidden behavior on the sphinx rendered scikit-learn.org. See: https://github.com/scikit-learn/scikit-learn/issues/21755 */display: inline-block !important;position: relative;}#sk-container-id-1 div.sk-text-repr-fallback {display: none;}</style><div id=\"sk-container-id-1\" class=\"sk-top-container\"><div class=\"sk-text-repr-fallback\"><pre>StandardScaler()</pre><b>In a Jupyter environment, please rerun this cell to show the HTML representation or trust the notebook. <br />On GitHub, the HTML representation is unable to render, please try loading this page with nbviewer.org.</b></div><div class=\"sk-container\" hidden><div class=\"sk-item\"><div class=\"sk-estimator sk-toggleable\"><input class=\"sk-toggleable__control sk-hidden--visually\" id=\"sk-estimator-id-1\" type=\"checkbox\" checked><label for=\"sk-estimator-id-1\" class=\"sk-toggleable__label sk-toggleable__label-arrow\">StandardScaler</label><div class=\"sk-toggleable__content\"><pre>StandardScaler()</pre></div></div></div></div></div>"
      ],
      "text/plain": [
       "StandardScaler()"
      ]
     },
     "execution_count": 9,
     "metadata": {},
     "output_type": "execute_result"
    }
   ],
   "source": [
    "# \"Instantiate\" the scaler (create an instance of the sklearn class)\n",
    "std_scaler = StandardScaler()\n",
    "std_scaler"
   ]
  },
  {
   "cell_type": "code",
   "execution_count": 10,
   "metadata": {},
   "outputs": [
    {
     "data": {
      "text/plain": [
       "array([[ 0.67447911, -0.37858516,  0.40562698, -0.79308001, -0.67884552,\n",
       "        -0.775005  , -0.78765731, -1.52501804,  1.42310404, -1.22738988],\n",
       "       [-1.67568773, -1.5658909 , -1.37879793, -0.72418137, -0.68551636,\n",
       "        -0.68437749, -0.78765731, -1.52501804,  1.42310404, -1.22738988]])"
      ]
     },
     "execution_count": 10,
     "metadata": {},
     "output_type": "execute_result"
    }
   ],
   "source": [
    "# 'Fit' the scaler to our data\n",
    "scaled_results = std_scaler.fit_transform(housing[numeric_cols])\n",
    "scaled_results[:2]"
   ]
  },
  {
   "cell_type": "code",
   "execution_count": 11,
   "metadata": {},
   "outputs": [
    {
     "data": {
      "text/html": [
       "<div>\n",
       "<style scoped>\n",
       "    .dataframe tbody tr th:only-of-type {\n",
       "        vertical-align: middle;\n",
       "    }\n",
       "\n",
       "    .dataframe tbody tr th {\n",
       "        vertical-align: top;\n",
       "    }\n",
       "\n",
       "    .dataframe thead th {\n",
       "        text-align: right;\n",
       "    }\n",
       "</style>\n",
       "<table border=\"1\" class=\"dataframe\">\n",
       "  <thead>\n",
       "    <tr style=\"text-align: right;\">\n",
       "      <th></th>\n",
       "      <th>Beds</th>\n",
       "      <th>Baths</th>\n",
       "      <th>Home_size</th>\n",
       "      <th>Lot_size</th>\n",
       "      <th>Latitude</th>\n",
       "      <th>Longitude</th>\n",
       "      <th>SF_time</th>\n",
       "      <th>PA_time</th>\n",
       "      <th>School_score</th>\n",
       "      <th>Commute_time</th>\n",
       "    </tr>\n",
       "  </thead>\n",
       "  <tbody>\n",
       "    <tr>\n",
       "      <th>0</th>\n",
       "      <td>0.674479</td>\n",
       "      <td>-0.378585</td>\n",
       "      <td>0.405627</td>\n",
       "      <td>-0.793080</td>\n",
       "      <td>-0.678846</td>\n",
       "      <td>-0.775005</td>\n",
       "      <td>-0.787657</td>\n",
       "      <td>-1.525018</td>\n",
       "      <td>1.423104</td>\n",
       "      <td>-1.22739</td>\n",
       "    </tr>\n",
       "    <tr>\n",
       "      <th>1</th>\n",
       "      <td>-1.675688</td>\n",
       "      <td>-1.565891</td>\n",
       "      <td>-1.378798</td>\n",
       "      <td>-0.724181</td>\n",
       "      <td>-0.685516</td>\n",
       "      <td>-0.684377</td>\n",
       "      <td>-0.787657</td>\n",
       "      <td>-1.525018</td>\n",
       "      <td>1.423104</td>\n",
       "      <td>-1.22739</td>\n",
       "    </tr>\n",
       "    <tr>\n",
       "      <th>2</th>\n",
       "      <td>-0.500604</td>\n",
       "      <td>-0.378585</td>\n",
       "      <td>-0.059875</td>\n",
       "      <td>-0.438032</td>\n",
       "      <td>-0.685674</td>\n",
       "      <td>-0.841490</td>\n",
       "      <td>-0.787657</td>\n",
       "      <td>-1.525018</td>\n",
       "      <td>1.423104</td>\n",
       "      <td>-1.22739</td>\n",
       "    </tr>\n",
       "    <tr>\n",
       "      <th>3</th>\n",
       "      <td>0.674479</td>\n",
       "      <td>1.402373</td>\n",
       "      <td>1.284909</td>\n",
       "      <td>2.759803</td>\n",
       "      <td>-0.669992</td>\n",
       "      <td>-0.762719</td>\n",
       "      <td>-0.787657</td>\n",
       "      <td>-1.525018</td>\n",
       "      <td>1.423104</td>\n",
       "      <td>-1.22739</td>\n",
       "    </tr>\n",
       "    <tr>\n",
       "      <th>4</th>\n",
       "      <td>-1.675688</td>\n",
       "      <td>-1.565891</td>\n",
       "      <td>-0.952088</td>\n",
       "      <td>-0.499308</td>\n",
       "      <td>-0.700883</td>\n",
       "      <td>-0.682728</td>\n",
       "      <td>-0.787657</td>\n",
       "      <td>-1.525018</td>\n",
       "      <td>1.423104</td>\n",
       "      <td>-1.22739</td>\n",
       "    </tr>\n",
       "  </tbody>\n",
       "</table>\n",
       "</div>"
      ],
      "text/plain": [
       "       Beds     Baths  Home_size  Lot_size  Latitude  Longitude   SF_time  \\\n",
       "0  0.674479 -0.378585   0.405627 -0.793080 -0.678846  -0.775005 -0.787657   \n",
       "1 -1.675688 -1.565891  -1.378798 -0.724181 -0.685516  -0.684377 -0.787657   \n",
       "2 -0.500604 -0.378585  -0.059875 -0.438032 -0.685674  -0.841490 -0.787657   \n",
       "3  0.674479  1.402373   1.284909  2.759803 -0.669992  -0.762719 -0.787657   \n",
       "4 -1.675688 -1.565891  -0.952088 -0.499308 -0.700883  -0.682728 -0.787657   \n",
       "\n",
       "    PA_time  School_score  Commute_time  \n",
       "0 -1.525018      1.423104      -1.22739  \n",
       "1 -1.525018      1.423104      -1.22739  \n",
       "2 -1.525018      1.423104      -1.22739  \n",
       "3 -1.525018      1.423104      -1.22739  \n",
       "4 -1.525018      1.423104      -1.22739  "
      ]
     },
     "execution_count": 11,
     "metadata": {},
     "output_type": "execute_result"
    }
   ],
   "source": [
    "# convert those results into a dataframe\n",
    "scaled_df = pd.DataFrame(scaled_results, columns=numeric_cols)\n",
    "scaled_df.head()"
   ]
  },
  {
   "cell_type": "code",
   "execution_count": 12,
   "metadata": {},
   "outputs": [],
   "source": [
    "# Drop the original numeric columns\n",
    "housing = housing.drop(numeric_cols, axis=1)"
   ]
  },
  {
   "cell_type": "code",
   "execution_count": 13,
   "metadata": {},
   "outputs": [],
   "source": [
    "# Merge that sub-dataframe back into the updated original housing dataframe\n",
    "housing = pd.concat([housing, scaled_df], axis=1)"
   ]
  },
  {
   "cell_type": "code",
   "execution_count": 14,
   "metadata": {},
   "outputs": [
    {
     "data": {
      "text/html": [
       "<div>\n",
       "<style scoped>\n",
       "    .dataframe tbody tr th:only-of-type {\n",
       "        vertical-align: middle;\n",
       "    }\n",
       "\n",
       "    .dataframe tbody tr th {\n",
       "        vertical-align: top;\n",
       "    }\n",
       "\n",
       "    .dataframe thead th {\n",
       "        text-align: right;\n",
       "    }\n",
       "</style>\n",
       "<table border=\"1\" class=\"dataframe\">\n",
       "  <thead>\n",
       "    <tr style=\"text-align: right;\">\n",
       "      <th></th>\n",
       "      <th>Address</th>\n",
       "      <th>City</th>\n",
       "      <th>State</th>\n",
       "      <th>Zip</th>\n",
       "      <th>Price</th>\n",
       "      <th>Price difference</th>\n",
       "      <th>Beds</th>\n",
       "      <th>Baths</th>\n",
       "      <th>Home_size</th>\n",
       "      <th>Lot_size</th>\n",
       "      <th>Latitude</th>\n",
       "      <th>Longitude</th>\n",
       "      <th>SF_time</th>\n",
       "      <th>PA_time</th>\n",
       "      <th>School_score</th>\n",
       "      <th>Commute_time</th>\n",
       "    </tr>\n",
       "  </thead>\n",
       "  <tbody>\n",
       "    <tr>\n",
       "      <th>5556</th>\n",
       "      <td>2652 Lucena Dr</td>\n",
       "      <td>San Jose</td>\n",
       "      <td>CA</td>\n",
       "      <td>95132</td>\n",
       "      <td>1138000</td>\n",
       "      <td>-143453.1345</td>\n",
       "      <td>-0.500604</td>\n",
       "      <td>-0.378585</td>\n",
       "      <td>-0.270644</td>\n",
       "      <td>-0.221075</td>\n",
       "      <td>-1.160113</td>\n",
       "      <td>1.062268</td>\n",
       "      <td>0.956430</td>\n",
       "      <td>-0.665316</td>\n",
       "      <td>0.657127</td>\n",
       "      <td>-0.221441</td>\n",
       "    </tr>\n",
       "    <tr>\n",
       "      <th>1570</th>\n",
       "      <td>2036 Overhill Rd</td>\n",
       "      <td>Concord</td>\n",
       "      <td>CA</td>\n",
       "      <td>94520</td>\n",
       "      <td>469000</td>\n",
       "      <td>515346.6233</td>\n",
       "      <td>-0.500604</td>\n",
       "      <td>-1.565891</td>\n",
       "      <td>-1.174494</td>\n",
       "      <td>-0.377929</td>\n",
       "      <td>1.122103</td>\n",
       "      <td>0.299153</td>\n",
       "      <td>0.770888</td>\n",
       "      <td>1.202312</td>\n",
       "      <td>-1.517424</td>\n",
       "      <td>1.270138</td>\n",
       "    </tr>\n",
       "    <tr>\n",
       "      <th>2582</th>\n",
       "      <td>1097 Alberdan Cir</td>\n",
       "      <td>Pinole</td>\n",
       "      <td>CA</td>\n",
       "      <td>94564</td>\n",
       "      <td>575000</td>\n",
       "      <td>-275932.6832</td>\n",
       "      <td>0.674479</td>\n",
       "      <td>-0.378585</td>\n",
       "      <td>0.134084</td>\n",
       "      <td>0.666105</td>\n",
       "      <td>1.131635</td>\n",
       "      <td>-0.829381</td>\n",
       "      <td>0.214265</td>\n",
       "      <td>1.054087</td>\n",
       "      <td>-0.874826</td>\n",
       "      <td>0.749820</td>\n",
       "    </tr>\n",
       "    <tr>\n",
       "      <th>4948</th>\n",
       "      <td>20372 Miljevich Dr</td>\n",
       "      <td>Saratoga</td>\n",
       "      <td>CA</td>\n",
       "      <td>95070</td>\n",
       "      <td>2998000</td>\n",
       "      <td>639285.1273</td>\n",
       "      <td>0.674479</td>\n",
       "      <td>0.215068</td>\n",
       "      <td>0.966816</td>\n",
       "      <td>1.610398</td>\n",
       "      <td>-1.627510</td>\n",
       "      <td>0.369568</td>\n",
       "      <td>0.214265</td>\n",
       "      <td>-1.198924</td>\n",
       "      <td>1.772677</td>\n",
       "      <td>-0.845823</td>\n",
       "    </tr>\n",
       "    <tr>\n",
       "      <th>2541</th>\n",
       "      <td>81 Heartwood Ct</td>\n",
       "      <td>Oakley</td>\n",
       "      <td>CA</td>\n",
       "      <td>94561</td>\n",
       "      <td>572000</td>\n",
       "      <td>136358.9651</td>\n",
       "      <td>-0.500604</td>\n",
       "      <td>0.215068</td>\n",
       "      <td>0.666825</td>\n",
       "      <td>0.145407</td>\n",
       "      <td>1.098427</td>\n",
       "      <td>1.808859</td>\n",
       "      <td>1.698594</td>\n",
       "      <td>1.943434</td>\n",
       "      <td>-0.792573</td>\n",
       "      <td>2.137336</td>\n",
       "    </tr>\n",
       "  </tbody>\n",
       "</table>\n",
       "</div>"
      ],
      "text/plain": [
       "                 Address      City State    Zip    Price  Price difference  \\\n",
       "5556      2652 Lucena Dr  San Jose    CA  95132  1138000      -143453.1345   \n",
       "1570    2036 Overhill Rd   Concord    CA  94520   469000       515346.6233   \n",
       "2582   1097 Alberdan Cir    Pinole    CA  94564   575000      -275932.6832   \n",
       "4948  20372 Miljevich Dr  Saratoga    CA  95070  2998000       639285.1273   \n",
       "2541     81 Heartwood Ct    Oakley    CA  94561   572000       136358.9651   \n",
       "\n",
       "          Beds     Baths  Home_size  Lot_size  Latitude  Longitude   SF_time  \\\n",
       "5556 -0.500604 -0.378585  -0.270644 -0.221075 -1.160113   1.062268  0.956430   \n",
       "1570 -0.500604 -1.565891  -1.174494 -0.377929  1.122103   0.299153  0.770888   \n",
       "2582  0.674479 -0.378585   0.134084  0.666105  1.131635  -0.829381  0.214265   \n",
       "4948  0.674479  0.215068   0.966816  1.610398 -1.627510   0.369568  0.214265   \n",
       "2541 -0.500604  0.215068   0.666825  0.145407  1.098427   1.808859  1.698594   \n",
       "\n",
       "       PA_time  School_score  Commute_time  \n",
       "5556 -0.665316      0.657127     -0.221441  \n",
       "1570  1.202312     -1.517424      1.270138  \n",
       "2582  1.054087     -0.874826      0.749820  \n",
       "4948 -1.198924      1.772677     -0.845823  \n",
       "2541  1.943434     -0.792573      2.137336  "
      ]
     },
     "execution_count": 14,
     "metadata": {},
     "output_type": "execute_result"
    }
   ],
   "source": [
    "# Display a sample of those results \n",
    "housing.sample(5)"
   ]
  },
  {
   "cell_type": "markdown",
   "metadata": {},
   "source": [
    "#### Train-test split"
   ]
  },
  {
   "cell_type": "markdown",
   "metadata": {},
   "source": [
    "\"The only way to know how well a model will generalize to new cases is to actually try it out on new cases. One way to do that is to put your model in production and moni‐ tor how well it performs. This works well, but if your model is horribly bad, your users will complain—not the best idea.\n",
    "A better option is to split your data into two sets: the training set and the test set. As these names imply, you train your model using the training set, and you test it using the test set. The error rate on new cases is called the generalization error (or out-of- sample error), and by evaluating your model on the test set, you get an estimate of this error. This value tells you how well your model will perform on instances it has never seen before.\"  -- Geron, pg. 31"
   ]
  },
  {
   "cell_type": "code",
   "execution_count": 15,
   "metadata": {},
   "outputs": [
    {
     "name": "stdout",
     "output_type": "stream",
     "text": [
      "(5758,)\n",
      "(5758, 10)\n"
     ]
    }
   ],
   "source": [
    "# First, split your data into features (X) and labels (y).\n",
    "y = housing[\"Price\"].copy()\n",
    "X = housing.drop([\"Price\", \"Address\", \"City\", \"State\", \"Zip\", \"Price difference\"], axis=1)\n",
    "# Compare their shapes.\n",
    "print(y.shape)\n",
    "print(X.shape)"
   ]
  },
  {
   "cell_type": "code",
   "execution_count": 16,
   "metadata": {},
   "outputs": [],
   "source": [
    "# Now, split both X and y data into training and testing sets.\n",
    "X_train, X_test, y_train, y_test = train_test_split(X, y, \n",
    "                                       test_size=0.2, \n",
    "                                       random_state=42)"
   ]
  },
  {
   "cell_type": "code",
   "execution_count": 17,
   "metadata": {},
   "outputs": [
    {
     "name": "stdout",
     "output_type": "stream",
     "text": [
      "(4606, 10)\n",
      "(4606,)\n",
      "(1152, 10)\n",
      "(1152,)\n"
     ]
    }
   ],
   "source": [
    "# Compare the shapes to confirm this did what you wanted.\n",
    "print(X_train.shape)\n",
    "print(y_train.shape)\n",
    "print(X_test.shape)\n",
    "print(y_test.shape)"
   ]
  },
  {
   "cell_type": "markdown",
   "metadata": {},
   "source": [
    "## Select and train a model"
   ]
  },
  {
   "cell_type": "code",
   "execution_count": 18,
   "metadata": {},
   "outputs": [
    {
     "data": {
      "text/html": [
       "<style>#sk-container-id-2 {color: black;background-color: white;}#sk-container-id-2 pre{padding: 0;}#sk-container-id-2 div.sk-toggleable {background-color: white;}#sk-container-id-2 label.sk-toggleable__label {cursor: pointer;display: block;width: 100%;margin-bottom: 0;padding: 0.3em;box-sizing: border-box;text-align: center;}#sk-container-id-2 label.sk-toggleable__label-arrow:before {content: \"▸\";float: left;margin-right: 0.25em;color: #696969;}#sk-container-id-2 label.sk-toggleable__label-arrow:hover:before {color: black;}#sk-container-id-2 div.sk-estimator:hover label.sk-toggleable__label-arrow:before {color: black;}#sk-container-id-2 div.sk-toggleable__content {max-height: 0;max-width: 0;overflow: hidden;text-align: left;background-color: #f0f8ff;}#sk-container-id-2 div.sk-toggleable__content pre {margin: 0.2em;color: black;border-radius: 0.25em;background-color: #f0f8ff;}#sk-container-id-2 input.sk-toggleable__control:checked~div.sk-toggleable__content {max-height: 200px;max-width: 100%;overflow: auto;}#sk-container-id-2 input.sk-toggleable__control:checked~label.sk-toggleable__label-arrow:before {content: \"▾\";}#sk-container-id-2 div.sk-estimator input.sk-toggleable__control:checked~label.sk-toggleable__label {background-color: #d4ebff;}#sk-container-id-2 div.sk-label input.sk-toggleable__control:checked~label.sk-toggleable__label {background-color: #d4ebff;}#sk-container-id-2 input.sk-hidden--visually {border: 0;clip: rect(1px 1px 1px 1px);clip: rect(1px, 1px, 1px, 1px);height: 1px;margin: -1px;overflow: hidden;padding: 0;position: absolute;width: 1px;}#sk-container-id-2 div.sk-estimator {font-family: monospace;background-color: #f0f8ff;border: 1px dotted black;border-radius: 0.25em;box-sizing: border-box;margin-bottom: 0.5em;}#sk-container-id-2 div.sk-estimator:hover {background-color: #d4ebff;}#sk-container-id-2 div.sk-parallel-item::after {content: \"\";width: 100%;border-bottom: 1px solid gray;flex-grow: 1;}#sk-container-id-2 div.sk-label:hover label.sk-toggleable__label {background-color: #d4ebff;}#sk-container-id-2 div.sk-serial::before {content: \"\";position: absolute;border-left: 1px solid gray;box-sizing: border-box;top: 0;bottom: 0;left: 50%;z-index: 0;}#sk-container-id-2 div.sk-serial {display: flex;flex-direction: column;align-items: center;background-color: white;padding-right: 0.2em;padding-left: 0.2em;position: relative;}#sk-container-id-2 div.sk-item {position: relative;z-index: 1;}#sk-container-id-2 div.sk-parallel {display: flex;align-items: stretch;justify-content: center;background-color: white;position: relative;}#sk-container-id-2 div.sk-item::before, #sk-container-id-2 div.sk-parallel-item::before {content: \"\";position: absolute;border-left: 1px solid gray;box-sizing: border-box;top: 0;bottom: 0;left: 50%;z-index: -1;}#sk-container-id-2 div.sk-parallel-item {display: flex;flex-direction: column;z-index: 1;position: relative;background-color: white;}#sk-container-id-2 div.sk-parallel-item:first-child::after {align-self: flex-end;width: 50%;}#sk-container-id-2 div.sk-parallel-item:last-child::after {align-self: flex-start;width: 50%;}#sk-container-id-2 div.sk-parallel-item:only-child::after {width: 0;}#sk-container-id-2 div.sk-dashed-wrapped {border: 1px dashed gray;margin: 0 0.4em 0.5em 0.4em;box-sizing: border-box;padding-bottom: 0.4em;background-color: white;}#sk-container-id-2 div.sk-label label {font-family: monospace;font-weight: bold;display: inline-block;line-height: 1.2em;}#sk-container-id-2 div.sk-label-container {text-align: center;}#sk-container-id-2 div.sk-container {/* jupyter's `normalize.less` sets `[hidden] { display: none; }` but bootstrap.min.css set `[hidden] { display: none !important; }` so we also need the `!important` here to be able to override the default hidden behavior on the sphinx rendered scikit-learn.org. See: https://github.com/scikit-learn/scikit-learn/issues/21755 */display: inline-block !important;position: relative;}#sk-container-id-2 div.sk-text-repr-fallback {display: none;}</style><div id=\"sk-container-id-2\" class=\"sk-top-container\"><div class=\"sk-text-repr-fallback\"><pre>LinearRegression()</pre><b>In a Jupyter environment, please rerun this cell to show the HTML representation or trust the notebook. <br />On GitHub, the HTML representation is unable to render, please try loading this page with nbviewer.org.</b></div><div class=\"sk-container\" hidden><div class=\"sk-item\"><div class=\"sk-estimator sk-toggleable\"><input class=\"sk-toggleable__control sk-hidden--visually\" id=\"sk-estimator-id-2\" type=\"checkbox\" checked><label for=\"sk-estimator-id-2\" class=\"sk-toggleable__label sk-toggleable__label-arrow\">LinearRegression</label><div class=\"sk-toggleable__content\"><pre>LinearRegression()</pre></div></div></div></div></div>"
      ],
      "text/plain": [
       "LinearRegression()"
      ]
     },
     "execution_count": 18,
     "metadata": {},
     "output_type": "execute_result"
    }
   ],
   "source": [
    "# Create a local instance of the sklearn class, and show its options\n",
    "lin_reg = LinearRegression()\n",
    "lin_reg"
   ]
  },
  {
   "cell_type": "code",
   "execution_count": 19,
   "metadata": {},
   "outputs": [
    {
     "data": {
      "text/html": [
       "<style>#sk-container-id-3 {color: black;background-color: white;}#sk-container-id-3 pre{padding: 0;}#sk-container-id-3 div.sk-toggleable {background-color: white;}#sk-container-id-3 label.sk-toggleable__label {cursor: pointer;display: block;width: 100%;margin-bottom: 0;padding: 0.3em;box-sizing: border-box;text-align: center;}#sk-container-id-3 label.sk-toggleable__label-arrow:before {content: \"▸\";float: left;margin-right: 0.25em;color: #696969;}#sk-container-id-3 label.sk-toggleable__label-arrow:hover:before {color: black;}#sk-container-id-3 div.sk-estimator:hover label.sk-toggleable__label-arrow:before {color: black;}#sk-container-id-3 div.sk-toggleable__content {max-height: 0;max-width: 0;overflow: hidden;text-align: left;background-color: #f0f8ff;}#sk-container-id-3 div.sk-toggleable__content pre {margin: 0.2em;color: black;border-radius: 0.25em;background-color: #f0f8ff;}#sk-container-id-3 input.sk-toggleable__control:checked~div.sk-toggleable__content {max-height: 200px;max-width: 100%;overflow: auto;}#sk-container-id-3 input.sk-toggleable__control:checked~label.sk-toggleable__label-arrow:before {content: \"▾\";}#sk-container-id-3 div.sk-estimator input.sk-toggleable__control:checked~label.sk-toggleable__label {background-color: #d4ebff;}#sk-container-id-3 div.sk-label input.sk-toggleable__control:checked~label.sk-toggleable__label {background-color: #d4ebff;}#sk-container-id-3 input.sk-hidden--visually {border: 0;clip: rect(1px 1px 1px 1px);clip: rect(1px, 1px, 1px, 1px);height: 1px;margin: -1px;overflow: hidden;padding: 0;position: absolute;width: 1px;}#sk-container-id-3 div.sk-estimator {font-family: monospace;background-color: #f0f8ff;border: 1px dotted black;border-radius: 0.25em;box-sizing: border-box;margin-bottom: 0.5em;}#sk-container-id-3 div.sk-estimator:hover {background-color: #d4ebff;}#sk-container-id-3 div.sk-parallel-item::after {content: \"\";width: 100%;border-bottom: 1px solid gray;flex-grow: 1;}#sk-container-id-3 div.sk-label:hover label.sk-toggleable__label {background-color: #d4ebff;}#sk-container-id-3 div.sk-serial::before {content: \"\";position: absolute;border-left: 1px solid gray;box-sizing: border-box;top: 0;bottom: 0;left: 50%;z-index: 0;}#sk-container-id-3 div.sk-serial {display: flex;flex-direction: column;align-items: center;background-color: white;padding-right: 0.2em;padding-left: 0.2em;position: relative;}#sk-container-id-3 div.sk-item {position: relative;z-index: 1;}#sk-container-id-3 div.sk-parallel {display: flex;align-items: stretch;justify-content: center;background-color: white;position: relative;}#sk-container-id-3 div.sk-item::before, #sk-container-id-3 div.sk-parallel-item::before {content: \"\";position: absolute;border-left: 1px solid gray;box-sizing: border-box;top: 0;bottom: 0;left: 50%;z-index: -1;}#sk-container-id-3 div.sk-parallel-item {display: flex;flex-direction: column;z-index: 1;position: relative;background-color: white;}#sk-container-id-3 div.sk-parallel-item:first-child::after {align-self: flex-end;width: 50%;}#sk-container-id-3 div.sk-parallel-item:last-child::after {align-self: flex-start;width: 50%;}#sk-container-id-3 div.sk-parallel-item:only-child::after {width: 0;}#sk-container-id-3 div.sk-dashed-wrapped {border: 1px dashed gray;margin: 0 0.4em 0.5em 0.4em;box-sizing: border-box;padding-bottom: 0.4em;background-color: white;}#sk-container-id-3 div.sk-label label {font-family: monospace;font-weight: bold;display: inline-block;line-height: 1.2em;}#sk-container-id-3 div.sk-label-container {text-align: center;}#sk-container-id-3 div.sk-container {/* jupyter's `normalize.less` sets `[hidden] { display: none; }` but bootstrap.min.css set `[hidden] { display: none !important; }` so we also need the `!important` here to be able to override the default hidden behavior on the sphinx rendered scikit-learn.org. See: https://github.com/scikit-learn/scikit-learn/issues/21755 */display: inline-block !important;position: relative;}#sk-container-id-3 div.sk-text-repr-fallback {display: none;}</style><div id=\"sk-container-id-3\" class=\"sk-top-container\"><div class=\"sk-text-repr-fallback\"><pre>LinearRegression()</pre><b>In a Jupyter environment, please rerun this cell to show the HTML representation or trust the notebook. <br />On GitHub, the HTML representation is unable to render, please try loading this page with nbviewer.org.</b></div><div class=\"sk-container\" hidden><div class=\"sk-item\"><div class=\"sk-estimator sk-toggleable\"><input class=\"sk-toggleable__control sk-hidden--visually\" id=\"sk-estimator-id-3\" type=\"checkbox\" checked><label for=\"sk-estimator-id-3\" class=\"sk-toggleable__label sk-toggleable__label-arrow\">LinearRegression</label><div class=\"sk-toggleable__content\"><pre>LinearRegression()</pre></div></div></div></div></div>"
      ],
      "text/plain": [
       "LinearRegression()"
      ]
     },
     "execution_count": 19,
     "metadata": {},
     "output_type": "execute_result"
    }
   ],
   "source": [
    "# Fit your instance to the training dataset\n",
    "lin_reg.fit(X_train, y_train)"
   ]
  },
  {
   "cell_type": "code",
   "execution_count": 20,
   "metadata": {},
   "outputs": [
    {
     "data": {
      "text/plain": [
       "1192608.922903277"
      ]
     },
     "execution_count": 20,
     "metadata": {},
     "output_type": "execute_result"
    }
   ],
   "source": [
    "# display the intercept\n",
    "lin_reg.intercept_"
   ]
  },
  {
   "cell_type": "code",
   "execution_count": 21,
   "metadata": {},
   "outputs": [
    {
     "data": {
      "text/plain": [
       "array([ -65816.92292443,   85801.84843159,  330677.45784646,\n",
       "        100225.50609841,  -71124.48622073,  -45930.04952065,\n",
       "         90588.77790296,   75166.67656337,  164050.59382731,\n",
       "       -473794.1805488 ])"
      ]
     },
     "execution_count": 21,
     "metadata": {},
     "output_type": "execute_result"
    }
   ],
   "source": [
    "# display coefficients\n",
    "lin_reg.coef_"
   ]
  },
  {
   "cell_type": "code",
   "execution_count": 22,
   "metadata": {},
   "outputs": [
    {
     "data": {
      "text/html": [
       "<div>\n",
       "<style scoped>\n",
       "    .dataframe tbody tr th:only-of-type {\n",
       "        vertical-align: middle;\n",
       "    }\n",
       "\n",
       "    .dataframe tbody tr th {\n",
       "        vertical-align: top;\n",
       "    }\n",
       "\n",
       "    .dataframe thead th {\n",
       "        text-align: right;\n",
       "    }\n",
       "</style>\n",
       "<table border=\"1\" class=\"dataframe\">\n",
       "  <thead>\n",
       "    <tr style=\"text-align: right;\">\n",
       "      <th></th>\n",
       "      <th>coefficients</th>\n",
       "    </tr>\n",
       "  </thead>\n",
       "  <tbody>\n",
       "    <tr>\n",
       "      <th>intercept</th>\n",
       "      <td>1192608</td>\n",
       "    </tr>\n",
       "    <tr>\n",
       "      <th>Beds</th>\n",
       "      <td>-65816</td>\n",
       "    </tr>\n",
       "    <tr>\n",
       "      <th>Baths</th>\n",
       "      <td>85801</td>\n",
       "    </tr>\n",
       "    <tr>\n",
       "      <th>Home_size</th>\n",
       "      <td>330677</td>\n",
       "    </tr>\n",
       "    <tr>\n",
       "      <th>Lot_size</th>\n",
       "      <td>100225</td>\n",
       "    </tr>\n",
       "    <tr>\n",
       "      <th>Latitude</th>\n",
       "      <td>-71124</td>\n",
       "    </tr>\n",
       "    <tr>\n",
       "      <th>Longitude</th>\n",
       "      <td>-45930</td>\n",
       "    </tr>\n",
       "    <tr>\n",
       "      <th>SF_time</th>\n",
       "      <td>90588</td>\n",
       "    </tr>\n",
       "    <tr>\n",
       "      <th>PA_time</th>\n",
       "      <td>75166</td>\n",
       "    </tr>\n",
       "    <tr>\n",
       "      <th>School_score</th>\n",
       "      <td>164050</td>\n",
       "    </tr>\n",
       "    <tr>\n",
       "      <th>Commute_time</th>\n",
       "      <td>-473794</td>\n",
       "    </tr>\n",
       "  </tbody>\n",
       "</table>\n",
       "</div>"
      ],
      "text/plain": [
       "              coefficients\n",
       "intercept          1192608\n",
       "Beds                -65816\n",
       "Baths                85801\n",
       "Home_size           330677\n",
       "Lot_size            100225\n",
       "Latitude            -71124\n",
       "Longitude           -45930\n",
       "SF_time              90588\n",
       "PA_time              75166\n",
       "School_score        164050\n",
       "Commute_time       -473794"
      ]
     },
     "execution_count": 22,
     "metadata": {},
     "output_type": "execute_result"
    }
   ],
   "source": [
    "# Display intercept and coefficients as a dataframe\n",
    "cols=list(X_train.columns)\n",
    "coefs=list(lin_reg.coef_)\n",
    "coefs=[int(x) for x in coefs]\n",
    "# add the intercept\n",
    "cols.insert(0, \"intercept\")\n",
    "coefs.insert(0, int(lin_reg.intercept_))\n",
    "# combine into a dataframe\n",
    "regression_components = pd.DataFrame(coefs, cols, columns=['coefficients'])\n",
    "regression_components "
   ]
  },
  {
   "cell_type": "code",
   "execution_count": 24,
   "metadata": {},
   "outputs": [
    {
     "name": "stdout",
     "output_type": "stream",
     "text": [
      "Regression Equation:  \n",
      " y =  1192608.92 + \n",
      "                1192608*intercept + \n",
      "                -65816*Beds + \n",
      "                85801*Baths + \n",
      "                330677*Home_size + \n",
      "                100225*Lot_size + \n",
      "                -71124*Latitude + \n",
      "                -45930*Longitude + \n",
      "                90588*SF_time + \n",
      "                75166*PA_time +\n",
      "                164050*School_score + \n",
      "                -473794*Commute_time\n",
      "                \n"
     ]
    }
   ],
   "source": [
    "# what is the equation for this model?\n",
    "\n",
    "xcoefs = [(coefs[i], cols[i]) for i in range(0, len(cols))]\n",
    "\n",
    "output = f\"\"\"y =  {round(lin_reg.intercept_,2)} + \n",
    "                {round(xcoefs[0][0],2)}*{xcoefs[0][1]} + \n",
    "                {round(xcoefs[1][0],2)}*{xcoefs[1][1]} + \n",
    "                {round(xcoefs[2][0],2)}*{xcoefs[2][1]} + \n",
    "                {round(xcoefs[3][0],2)}*{xcoefs[3][1]} + \n",
    "                {round(xcoefs[4][0],2)}*{xcoefs[4][1]} + \n",
    "                {round(xcoefs[5][0],2)}*{xcoefs[5][1]} + \n",
    "                {round(xcoefs[6][0],2)}*{xcoefs[6][1]} + \n",
    "                {round(xcoefs[7][0],2)}*{xcoefs[7][1]} + \n",
    "                {round(xcoefs[8][0],2)}*{xcoefs[8][1]} +\n",
    "                {round(xcoefs[9][0],2)}*{xcoefs[9][1]} + \n",
    "                {round(xcoefs[10][0],2)}*{xcoefs[10][1]}\n",
    "                \"\"\"\n",
    "print(\"Regression Equation: \", \"\\n\", output)  "
   ]
  },
  {
   "cell_type": "markdown",
   "metadata": {},
   "source": [
    "## Make predictions on your testing dataset"
   ]
  },
  {
   "cell_type": "code",
   "execution_count": 25,
   "metadata": {},
   "outputs": [],
   "source": [
    "# Make predictions on the testing dataset\n",
    "y_preds = lin_reg.predict(X_test)"
   ]
  },
  {
   "cell_type": "code",
   "execution_count": 26,
   "metadata": {},
   "outputs": [
    {
     "data": {
      "text/plain": [
       "array([ 445005.80881083, 1451233.40536476,  390386.78775281, ...,\n",
       "       2520824.61058182,  919236.98041353, 1556969.47920302])"
      ]
     },
     "execution_count": 26,
     "metadata": {},
     "output_type": "execute_result"
    }
   ],
   "source": [
    "# Examine your predictions\n",
    "y_preds"
   ]
  },
  {
   "cell_type": "code",
   "execution_count": 27,
   "metadata": {},
   "outputs": [
    {
     "name": "stdout",
     "output_type": "stream",
     "text": [
      "true values: [398000, 1649877, 499000, 579000, 450000]\n",
      "predicted values: [445005.8, 1451233.4, 390386.8, 571076.4, 318864.1]\n"
     ]
    }
   ],
   "source": [
    "# How do the first five predictions compare to the first five actual values?\n",
    "true_5=list(round(y_test[:5], 1))\n",
    "pred_5=[round(x,1) for x in list(y_preds[:5])]\n",
    "print('true values:', true_5)\n",
    "print('predicted values:', pred_5)"
   ]
  },
  {
   "cell_type": "code",
   "execution_count": 28,
   "metadata": {},
   "outputs": [
    {
     "data": {
      "text/html": [
       "<div>\n",
       "<style scoped>\n",
       "    .dataframe tbody tr th:only-of-type {\n",
       "        vertical-align: middle;\n",
       "    }\n",
       "\n",
       "    .dataframe tbody tr th {\n",
       "        vertical-align: top;\n",
       "    }\n",
       "\n",
       "    .dataframe thead th {\n",
       "        text-align: right;\n",
       "    }\n",
       "</style>\n",
       "<table border=\"1\" class=\"dataframe\">\n",
       "  <thead>\n",
       "    <tr style=\"text-align: right;\">\n",
       "      <th></th>\n",
       "      <th>house</th>\n",
       "      <th>true</th>\n",
       "      <th>predicted</th>\n",
       "    </tr>\n",
       "  </thead>\n",
       "  <tbody>\n",
       "    <tr>\n",
       "      <th>0</th>\n",
       "      <td>house0</td>\n",
       "      <td>398000</td>\n",
       "      <td>445005.8</td>\n",
       "    </tr>\n",
       "    <tr>\n",
       "      <th>1</th>\n",
       "      <td>house1</td>\n",
       "      <td>1649877</td>\n",
       "      <td>1451233.4</td>\n",
       "    </tr>\n",
       "    <tr>\n",
       "      <th>2</th>\n",
       "      <td>house2</td>\n",
       "      <td>499000</td>\n",
       "      <td>390386.8</td>\n",
       "    </tr>\n",
       "    <tr>\n",
       "      <th>3</th>\n",
       "      <td>house3</td>\n",
       "      <td>579000</td>\n",
       "      <td>571076.4</td>\n",
       "    </tr>\n",
       "    <tr>\n",
       "      <th>4</th>\n",
       "      <td>house4</td>\n",
       "      <td>450000</td>\n",
       "      <td>318864.1</td>\n",
       "    </tr>\n",
       "  </tbody>\n",
       "</table>\n",
       "</div>"
      ],
      "text/plain": [
       "    house     true  predicted\n",
       "0  house0   398000   445005.8\n",
       "1  house1  1649877  1451233.4\n",
       "2  house2   499000   390386.8\n",
       "3  house3   579000   571076.4\n",
       "4  house4   450000   318864.1"
      ]
     },
     "execution_count": 28,
     "metadata": {},
     "output_type": "execute_result"
    }
   ],
   "source": [
    "# How do we intepret those results?\n",
    "first_5=['house0', 'house1', 'house2', 'house3', 'house4']\n",
    "pd.DataFrame(list(zip(first_5, true_5, pred_5)), columns=['house', 'true', 'predicted'])"
   ]
  },
  {
   "cell_type": "markdown",
   "metadata": {},
   "source": [
    "## Examine the feature importances"
   ]
  },
  {
   "cell_type": "code",
   "execution_count": 29,
   "metadata": {},
   "outputs": [
    {
     "name": "stdout",
     "output_type": "stream",
     "text": [
      "Index(['Beds', 'Baths', 'Home_size', 'Lot_size', 'Latitude', 'Longitude',\n",
      "       'SF_time', 'PA_time', 'School_score', 'Commute_time'],\n",
      "      dtype='object')\n",
      "[ -65816.92292443   85801.84843159  330677.45784646  100225.50609841\n",
      "  -71124.48622073  -45930.04952065   90588.77790296   75166.67656337\n",
      "  164050.59382731 -473794.1805488 ]\n"
     ]
    }
   ],
   "source": [
    "# 'Attributes' is another name for our list of features (aka predictors, independent variables)\n",
    "attributes=X_test.columns\n",
    "print(attributes)\n",
    "# 'Feature importances' is another name for our coefficients (ie., the impace of each feature on the outcome or DV)\n",
    "feature_importances=lin_reg.coef_\n",
    "print(feature_importances)"
   ]
  },
  {
   "cell_type": "code",
   "execution_count": 30,
   "metadata": {},
   "outputs": [
    {
     "name": "stdout",
     "output_type": "stream",
     "text": [
      "10\n",
      "10\n"
     ]
    }
   ],
   "source": [
    "# obviously, these 2 things will have the same length\n",
    "print(len(feature_importances))\n",
    "print(len(attributes))"
   ]
  },
  {
   "cell_type": "code",
   "execution_count": 31,
   "metadata": {},
   "outputs": [
    {
     "data": {
      "text/plain": [
       "[-65816, 85801, 330677, 100225, -71124, -45930, 90588, 75166, 164050, -473794]"
      ]
     },
     "execution_count": 31,
     "metadata": {},
     "output_type": "execute_result"
    }
   ],
   "source": [
    "[int(x) for x in list(feature_importances)]"
   ]
  },
  {
   "cell_type": "code",
   "execution_count": 32,
   "metadata": {},
   "outputs": [
    {
     "data": {
      "text/html": [
       "<div>\n",
       "<style scoped>\n",
       "    .dataframe tbody tr th:only-of-type {\n",
       "        vertical-align: middle;\n",
       "    }\n",
       "\n",
       "    .dataframe tbody tr th {\n",
       "        vertical-align: top;\n",
       "    }\n",
       "\n",
       "    .dataframe thead th {\n",
       "        text-align: right;\n",
       "    }\n",
       "</style>\n",
       "<table border=\"1\" class=\"dataframe\">\n",
       "  <thead>\n",
       "    <tr style=\"text-align: right;\">\n",
       "      <th></th>\n",
       "      <th>coeffs</th>\n",
       "    </tr>\n",
       "    <tr>\n",
       "      <th>features</th>\n",
       "      <th></th>\n",
       "    </tr>\n",
       "  </thead>\n",
       "  <tbody>\n",
       "    <tr>\n",
       "      <th>Commute_time</th>\n",
       "      <td>-473794.180549</td>\n",
       "    </tr>\n",
       "    <tr>\n",
       "      <th>Latitude</th>\n",
       "      <td>-71124.486221</td>\n",
       "    </tr>\n",
       "    <tr>\n",
       "      <th>Beds</th>\n",
       "      <td>-65816.922924</td>\n",
       "    </tr>\n",
       "    <tr>\n",
       "      <th>Longitude</th>\n",
       "      <td>-45930.049521</td>\n",
       "    </tr>\n",
       "    <tr>\n",
       "      <th>PA_time</th>\n",
       "      <td>75166.676563</td>\n",
       "    </tr>\n",
       "    <tr>\n",
       "      <th>Baths</th>\n",
       "      <td>85801.848432</td>\n",
       "    </tr>\n",
       "    <tr>\n",
       "      <th>SF_time</th>\n",
       "      <td>90588.777903</td>\n",
       "    </tr>\n",
       "    <tr>\n",
       "      <th>Lot_size</th>\n",
       "      <td>100225.506098</td>\n",
       "    </tr>\n",
       "    <tr>\n",
       "      <th>School_score</th>\n",
       "      <td>164050.593827</td>\n",
       "    </tr>\n",
       "    <tr>\n",
       "      <th>Home_size</th>\n",
       "      <td>330677.457846</td>\n",
       "    </tr>\n",
       "  </tbody>\n",
       "</table>\n",
       "</div>"
      ],
      "text/plain": [
       "                     coeffs\n",
       "features                   \n",
       "Commute_time -473794.180549\n",
       "Latitude      -71124.486221\n",
       "Beds          -65816.922924\n",
       "Longitude     -45930.049521\n",
       "PA_time        75166.676563\n",
       "Baths          85801.848432\n",
       "SF_time        90588.777903\n",
       "Lot_size      100225.506098\n",
       "School_score  164050.593827\n",
       "Home_size     330677.457846"
      ]
     },
     "execution_count": 32,
     "metadata": {},
     "output_type": "execute_result"
    }
   ],
   "source": [
    "# let's take a look at the results\n",
    "feature_imp = pd.DataFrame(list(zip(attributes, feature_importances)), columns=['features', 'coeffs'])\n",
    "feature_imp=feature_imp.set_index('features')\n",
    "feature_imp=feature_imp.sort_values('coeffs')\n",
    "feature_imp"
   ]
  },
  {
   "cell_type": "code",
   "execution_count": 33,
   "metadata": {},
   "outputs": [
    {
     "data": {
      "image/png": "[encoded data removed]",
      "text/plain": [
       "<Figure size 432x288 with 1 Axes>"
      ]
     },
     "metadata": {
      "needs_background": "light"
     },
     "output_type": "display_data"
    }
   ],
   "source": [
    "# plot that as a bar chart\n",
    "feature_imp.plot(kind='bar');"
   ]
  },
  {
   "cell_type": "markdown",
   "metadata": {},
   "source": [
    "## Evaluate your model"
   ]
  },
  {
   "cell_type": "code",
   "execution_count": 34,
   "metadata": {},
   "outputs": [
    {
     "data": {
      "text/plain": [
       "376826.19"
      ]
     },
     "execution_count": 34,
     "metadata": {},
     "output_type": "execute_result"
    }
   ],
   "source": [
    "# root mean squared error represents the average error (in $) of our model\n",
    "rmse = np.sqrt(metrics.mean_squared_error(y_test, y_preds))\n",
    "round(rmse,2)"
   ]
  },
  {
   "cell_type": "code",
   "execution_count": 35,
   "metadata": {},
   "outputs": [
    {
     "data": {
      "text/plain": [
       "1193260.55"
      ]
     },
     "execution_count": 35,
     "metadata": {},
     "output_type": "execute_result"
    }
   ],
   "source": [
    "# how does this compare to the mean of our training set?\n",
    "avg_val = round(y_train.mean(),2)\n",
    "avg_val"
   ]
  },
  {
   "cell_type": "code",
   "execution_count": 36,
   "metadata": {},
   "outputs": [
    {
     "name": "stdout",
     "output_type": "stream",
     "text": [
      "748698\n"
     ]
    }
   ],
   "source": [
    "# If we used that as our predictor, then the average error of our model would be:\n",
    "comparison_array=np.full((len(y_test), ), avg_val)\n",
    "coin_flip=np.sqrt(metrics.mean_squared_error(y_test, comparison_array))\n",
    "print(round(coin_flip))"
   ]
  },
  {
   "cell_type": "code",
   "execution_count": 37,
   "metadata": {},
   "outputs": [
    {
     "data": {
      "text/plain": [
       "0.75"
      ]
     },
     "execution_count": 37,
     "metadata": {},
     "output_type": "execute_result"
    }
   ],
   "source": [
    "# R-squared is another important metric\n",
    "r2=metrics.r2_score(y_test, y_preds)\n",
    "round(r2, 2)"
   ]
  },
  {
   "cell_type": "code",
   "execution_count": 38,
   "metadata": {},
   "outputs": [
    {
     "data": {
      "image/png": "[encoded data removed]",
      "text/plain": [
       "<Figure size 504x504 with 1 Axes>"
      ]
     },
     "metadata": {
      "needs_background": "light"
     },
     "output_type": "display_data"
    }
   ],
   "source": [
    "# Visualize our true vs. predicted values\n",
    "import seaborn as sns\n",
    "plt.figure(figsize=(7,7))\n",
    "plt.title('House Prices in Bay Area')\n",
    "plt.xlabel('True Values')\n",
    "plt.ylabel('Predicted Values')\n",
    "fig=sns.regplot(x=y_preds, y=y_test)\n",
    "plt.show(fig)"
   ]
  },
  {
   "cell_type": "code",
   "execution_count": null,
   "metadata": {},
   "outputs": [],
   "source": []
  }
 ],
 "metadata": {
  "kernelspec": {
   "display_name": "default:Python",
   "language": "python",
   "name": "conda-env-default-py"
  },
  "language_info": {
   "codemirror_mode": {
    "name": "ipython",
    "version": 3
   },
   "file_extension": ".py",
   "mimetype": "text/x-python",
   "name": "python",
   "nbconvert_exporter": "python",
   "pygments_lexer": "ipython3",
   "version": "3.9.13"
  }
 },
 "nbformat": 4,
 "nbformat_minor": 4
}
